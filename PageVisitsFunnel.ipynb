{
 "cells": [
  {
   "cell_type": "code",
   "execution_count": 10,
   "id": "631a2aa9",
   "metadata": {
    "scrolled": false
   },
   "outputs": [
    {
     "name": "stdout",
     "output_type": "stream",
     "text": [
      "                                user_id          visit_time\n",
      "0  943647ef-3682-4750-a2e1-918ba6f16188 2017-04-07 15:14:00\n",
      "1  0c3a3dd0-fb64-4eac-bf84-ba069ce409f2 2017-01-26 14:24:00\n",
      "2  6e0b2d60-4027-4d9a-babd-0e7d40859fb1 2017-08-20 08:23:00\n",
      "                                user_id           cart_time\n",
      "0  2be90e7c-9cca-44e0-bcc5-124b945ff168 2017-11-07 20:45:00\n",
      "1  4397f73f-1da3-4ab3-91af-762792e25973 2017-05-27 01:35:00\n",
      "2  a9db3d4b-0a0a-4398-a55a-ebb2c7adf663 2017-03-04 10:38:00\n",
      "                                user_id       checkout_time\n",
      "0  d33bdc47-4afa-45bc-b4e4-dbe948e34c0d 2017-06-25 09:29:00\n",
      "1  4ac186f0-9954-4fea-8a27-c081e428e34e 2017-04-07 20:11:00\n",
      "2  3c9c78a7-124a-4b77-8d2e-e1926e011e7d 2017-07-13 11:38:00\n",
      "                                user_id       purchase_time\n",
      "0  4b44ace4-2721-47a0-b24b-15fbfa2abf85 2017-05-11 04:25:00\n",
      "1  02e684ae-a448-408f-a9ff-dcb4a5c99aac 2017-09-05 08:45:00\n",
      "2  4b4bc391-749e-4b90-ab8f-4f6e3c84d6dc 2017-11-20 20:49:00\n"
     ]
    }
   ],
   "source": [
    "import pandas as pd\n",
    "\n",
    "# Create data frames from the following CSV files\n",
    "# CSV files also contain a column with datetime formats\n",
    "visits = pd.read_csv('visits.csv',\n",
    "                     parse_dates=[1])\n",
    "cart = pd.read_csv('cart.csv',\n",
    "                   parse_dates=[1])\n",
    "checkout = pd.read_csv('checkout.csv',\n",
    "                       parse_dates=[1])\n",
    "purchase = pd.read_csv('purchase.csv',\n",
    "                       parse_dates=[1])\n",
    "\n",
    "# View data frames with at max 3 rows\n",
    "\n",
    "print(visits.head(3))\n",
    "print(cart.head(3))\n",
    "print(checkout.head(3))\n",
    "print(purchase.head(3))"
   ]
  },
  {
   "cell_type": "code",
   "execution_count": 11,
   "id": "c04a7527",
   "metadata": {},
   "outputs": [
    {
     "name": "stdout",
     "output_type": "stream",
     "text": [
      "                                   user_id          visit_time  \\\n",
      "0     943647ef-3682-4750-a2e1-918ba6f16188 2017-04-07 15:14:00   \n",
      "1     0c3a3dd0-fb64-4eac-bf84-ba069ce409f2 2017-01-26 14:24:00   \n",
      "2     6e0b2d60-4027-4d9a-babd-0e7d40859fb1 2017-08-20 08:23:00   \n",
      "3     6879527e-c5a6-4d14-b2da-50b85212b0ab 2017-11-04 18:15:00   \n",
      "4     a84327ff-5daa-4ba1-b789-d5b4caf81e96 2017-02-27 11:25:00   \n",
      "...                                    ...                 ...   \n",
      "1995  33913ac2-03da-45ae-8fc3-fea39df827c6 2017-03-25 03:29:00   \n",
      "1996  4f850132-b99d-4623-80e6-6e61d003577e 2017-01-08 09:57:00   \n",
      "1997  f0830b9b-1f5c-4e74-b63d-3f847cc6ce70 2017-09-07 12:56:00   \n",
      "1998  b01bffa7-63ba-4cd3-9d93-eb1477c23831 2017-07-20 04:37:00   \n",
      "1999  0336ca81-8d68-443f-9248-ac0b8ad147d5 2017-11-15 10:11:00   \n",
      "\n",
      "               cart_time  \n",
      "0                    NaT  \n",
      "1    2017-01-26 14:44:00  \n",
      "2    2017-08-20 08:31:00  \n",
      "3                    NaT  \n",
      "4                    NaT  \n",
      "...                  ...  \n",
      "1995                 NaT  \n",
      "1996                 NaT  \n",
      "1997                 NaT  \n",
      "1998                 NaT  \n",
      "1999                 NaT  \n",
      "\n",
      "[2000 rows x 3 columns]\n"
     ]
    }
   ],
   "source": [
    "# Combined DF of visits and cart with left merge\n",
    "\n",
    "visits_cart = pd.merge(visits, cart, how = 'left')\n",
    "visits_cart_length = len(visits_cart)\n",
    "\n",
    "# Length of dataframe\n",
    "\n",
    "print(visits_cart)"
   ]
  },
  {
   "cell_type": "code",
   "execution_count": 12,
   "id": "46b0bacb",
   "metadata": {},
   "outputs": [
    {
     "name": "stdout",
     "output_type": "stream",
     "text": [
      "                                   user_id          visit_time cart_time\n",
      "0     943647ef-3682-4750-a2e1-918ba6f16188 2017-04-07 15:14:00       NaT\n",
      "3     6879527e-c5a6-4d14-b2da-50b85212b0ab 2017-11-04 18:15:00       NaT\n",
      "4     a84327ff-5daa-4ba1-b789-d5b4caf81e96 2017-02-27 11:25:00       NaT\n",
      "5     7bc62113-d51d-4e6b-85e0-1cf29e3de74a 2017-06-03 20:05:00       NaT\n",
      "6     6f22cd44-bc63-4449-a9af-2651859da2f9 2017-03-18 23:09:00       NaT\n",
      "...                                    ...                 ...       ...\n",
      "1995  33913ac2-03da-45ae-8fc3-fea39df827c6 2017-03-25 03:29:00       NaT\n",
      "1996  4f850132-b99d-4623-80e6-6e61d003577e 2017-01-08 09:57:00       NaT\n",
      "1997  f0830b9b-1f5c-4e74-b63d-3f847cc6ce70 2017-09-07 12:56:00       NaT\n",
      "1998  b01bffa7-63ba-4cd3-9d93-eb1477c23831 2017-07-20 04:37:00       NaT\n",
      "1999  0336ca81-8d68-443f-9248-ac0b8ad147d5 2017-11-15 10:11:00       NaT\n",
      "\n",
      "[1652 rows x 3 columns]\n"
     ]
    }
   ],
   "source": [
    "# How many cart time rows are empty\n",
    "\n",
    "null_cart_times = visits_cart[visits_cart.cart_time.isnull()]\n",
    "null_cart_rows = len(null_cart_times)\n",
    "print(null_cart_times)"
   ]
  },
  {
   "cell_type": "code",
   "execution_count": 13,
   "id": "d834aced",
   "metadata": {},
   "outputs": [
    {
     "name": "stdout",
     "output_type": "stream",
     "text": [
      "0.826\n"
     ]
    }
   ],
   "source": [
    "# Percentage of users who did not checkout\n",
    "\n",
    "percent_not_checkedout = null_cart_rows / visits_cart_length\n",
    "print(percent_not_checkedout)"
   ]
  },
  {
   "cell_type": "code",
   "execution_count": 15,
   "id": "6ccab812",
   "metadata": {},
   "outputs": [
    {
     "name": "stdout",
     "output_type": "stream",
     "text": [
      "122\n",
      "0.25311203319502074\n"
     ]
    }
   ],
   "source": [
    "# Left merge of cart and checkout\n",
    "cart_checkout = cart.merge(checkout, how = 'left')\n",
    "\n",
    "# How many null values are there\n",
    "\n",
    "null_checkouts = len(cart_checkout[cart_checkout.checkout_time.isnull()])\n",
    "print(null_checkouts)\n",
    "\n",
    "# What percentage of users put items in their cart but did not proceed to checkout\n",
    "\n",
    "percent_null_checkouts = float(null_checkouts) / len(cart_checkout)\n",
    "print(percent_null_checkouts)"
   ]
  },
  {
   "cell_type": "code",
   "execution_count": 16,
   "id": "430b7f40",
   "metadata": {},
   "outputs": [
    {
     "name": "stdout",
     "output_type": "stream",
     "text": [
      "                                user_id          visit_time  \\\n",
      "0  943647ef-3682-4750-a2e1-918ba6f16188 2017-04-07 15:14:00   \n",
      "1  0c3a3dd0-fb64-4eac-bf84-ba069ce409f2 2017-01-26 14:24:00   \n",
      "2  6e0b2d60-4027-4d9a-babd-0e7d40859fb1 2017-08-20 08:23:00   \n",
      "3  6879527e-c5a6-4d14-b2da-50b85212b0ab 2017-11-04 18:15:00   \n",
      "4  a84327ff-5daa-4ba1-b789-d5b4caf81e96 2017-02-27 11:25:00   \n",
      "5  7bc62113-d51d-4e6b-85e0-1cf29e3de74a 2017-06-03 20:05:00   \n",
      "6  6f22cd44-bc63-4449-a9af-2651859da2f9 2017-03-18 23:09:00   \n",
      "7  49a6399b-c095-4e42-92eb-af90abe2bb6a 2017-01-10 12:09:00   \n",
      "8  653c095d-fd74-40dd-ae3b-5a69a2613629 2017-06-27 19:21:00   \n",
      "9  3d9fdac1-aae3-4a01-b448-934d12047468 2017-09-24 06:43:00   \n",
      "\n",
      "            cart_time       checkout_time       purchase_time  \n",
      "0                 NaT                 NaT                 NaT  \n",
      "1 2017-01-26 14:44:00 2017-01-26 14:54:00 2017-01-26 15:08:00  \n",
      "2 2017-08-20 08:31:00                 NaT                 NaT  \n",
      "3                 NaT                 NaT                 NaT  \n",
      "4                 NaT                 NaT                 NaT  \n",
      "5                 NaT                 NaT                 NaT  \n",
      "6                 NaT                 NaT                 NaT  \n",
      "7                 NaT                 NaT                 NaT  \n",
      "8                 NaT                 NaT                 NaT  \n",
      "9                 NaT                 NaT                 NaT  \n"
     ]
    }
   ],
   "source": [
    "# Megre all four steps in the process in order using a left merge\n",
    "# Visit, place in cart, checkout, purchase\n",
    "\n",
    "all_data = visits.merge(cart, how = 'left').merge(checkout, how = 'left').merge(purchase, how = 'left')\n",
    "print(all_data.head(10))"
   ]
  },
  {
   "cell_type": "code",
   "execution_count": 19,
   "id": "4a2effbd",
   "metadata": {},
   "outputs": [
    {
     "name": "stdout",
     "output_type": "stream",
     "text": [
      "0.1688963210702341\n"
     ]
    }
   ],
   "source": [
    "# What percentage of users proceeded to checkout but did not purchase\n",
    "\n",
    "# Merge data frames\n",
    "checkout_purchase = pd.merge(checkout, purchase, how = 'left')\n",
    "\n",
    "# Acquire the length of the data frame\n",
    "checkout_purchase_len = len(checkout_purchase)\n",
    "\n",
    "# How many people did not proceed with a purchase\n",
    "null_purchase_times = len(checkout_purchase[checkout_purchase.purchase_time.isnull()])\n",
    "\n",
    "# Percentage of useres who did not completed checkout\n",
    "not_purchase = float(null_purchase_times) / checkout_purchase_len\n",
    "print(not_purchase)"
   ]
  },
  {
   "cell_type": "code",
   "execution_count": 23,
   "id": "deb1ca5d",
   "metadata": {},
   "outputs": [
    {
     "name": "stdout",
     "output_type": "stream",
     "text": [
      "The percentage of users who did not place items in their cart is: 82.6%\n",
      "The percentage of users who did not check out is: 25.311203319502074%\n",
      "The percentage of users who did not complete a purchase is: 16.88963210702341%\n"
     ]
    }
   ],
   "source": [
    "# Percentage of users throught the funnel process\n",
    "\n",
    "print(\"The percentage of users who did not place items in their cart is: {0}%\".format(percent_not_checkedout * 100))\n",
    "print(\"The percentage of users who did not check out is: {0}%\".format(percent_null_checkouts * 100))\n",
    "print(\"The percentage of users who did not complete a purchase is: {0}%\".format(not_purchase * 100))"
   ]
  },
  {
   "cell_type": "code",
   "execution_count": 25,
   "id": "8ddbef0f",
   "metadata": {},
   "outputs": [
    {
     "name": "stdout",
     "output_type": "stream",
     "text": [
      "0               NaT\n",
      "1   0 days 00:44:00\n",
      "2               NaT\n",
      "3               NaT\n",
      "4               NaT\n",
      "5               NaT\n",
      "6               NaT\n",
      "7               NaT\n",
      "8               NaT\n",
      "9               NaT\n",
      "Name: time_to_purchase, dtype: timedelta64[ns]\n",
      "The average time to purchase is: 0 days 00:43:53.360160965\n"
     ]
    }
   ],
   "source": [
    "# Average time to purchase\n",
    "\n",
    "# Create new column in all_data data frame with values of time from visit to purchase\n",
    "all_data['time_to_purchase'] = all_data.purchase_time - all_data.visit_time\n",
    "\n",
    "# Inspect new data frame column\n",
    "print(all_data.time_to_purchase.head(10))\n",
    "\n",
    "# Calculate the average time to purchase\n",
    "print(\"The average time to purchase is: {0}\".format(all_data.time_to_purchase.mean()))"
   ]
  },
  {
   "cell_type": "code",
   "execution_count": null,
   "id": "ffbdd7f2",
   "metadata": {},
   "outputs": [],
   "source": [
    "# Project complete althought help was given to complete\n",
    "# My variables "
   ]
  }
 ],
 "metadata": {
  "kernelspec": {
   "display_name": "Python 3 (ipykernel)",
   "language": "python",
   "name": "python3"
  },
  "language_info": {
   "codemirror_mode": {
    "name": "ipython",
    "version": 3
   },
   "file_extension": ".py",
   "mimetype": "text/x-python",
   "name": "python",
   "nbconvert_exporter": "python",
   "pygments_lexer": "ipython3",
   "version": "3.9.5"
  }
 },
 "nbformat": 4,
 "nbformat_minor": 5
}
